{
 "cells": [
  {
   "cell_type": "code",
   "execution_count": 5,
   "metadata": {
    "collapsed": false
   },
   "outputs": [],
   "source": [
    "from doekbase.data_api.sequence.assembly import api\n",
    "import os\n",
    "import time\n",
    "from pyfaidx import Fasta\n",
    "token = os.environ['KB_AUTH_TOKEN']\n",
    "services = {'workspace_service_url': \"https://ci.kbase.us/services/ws/\",\n",
    "           'handle_service_url': 'https://ci.kbase.us/services/handle_service/',\n",
    "           'shock_service_url': 'https://ci.kbase.us/services/shock-api/'}"
   ]
  },
  {
   "cell_type": "code",
   "execution_count": 6,
   "metadata": {
    "collapsed": false
   },
   "outputs": [],
   "source": [
    "asm =  api.AssemblyAPI(services=services, token=token, ref='5810/18/2')"
   ]
  },
  {
   "cell_type": "code",
   "execution_count": 7,
   "metadata": {
    "collapsed": false
   },
   "outputs": [],
   "source": [
    "asm.get_fasta().to_file(file('arabidopsis.fasta', 'w'))"
   ]
  },
  {
   "cell_type": "code",
   "execution_count": 8,
   "metadata": {
    "collapsed": false
   },
   "outputs": [
    {
     "data": {
      "text/plain": [
       "['chromosome:TAIR10:Pt:1:154478:1',\n",
       " 'chromosome:TAIR10:Mt:1:366924:1',\n",
       " 'chromosome:TAIR10:4:1:18585056:1',\n",
       " 'chromosome:TAIR10:2:1:19698289:1',\n",
       " 'chromosome:TAIR10:3:1:23459830:1',\n",
       " 'chromosome:TAIR10:5:1:26975502:1',\n",
       " 'chromosome:TAIR10:1:1:30427671:1']"
      ]
     },
     "execution_count": 8,
     "metadata": {},
     "output_type": "execute_result"
    }
   ],
   "source": [
    "arabidopsis = Fasta('arabidopsis.fasta')\n",
    "arabidopsis.keys()"
   ]
  },
  {
   "cell_type": "code",
   "execution_count": 2,
   "metadata": {
    "collapsed": false
   },
   "outputs": [],
   "source": [
    "services = {'workspace_service_url': \"https://kbase.us/services/ws/\",\n",
    "           'handle_service_url': 'https://kbase.us/services/handle_service/',\n",
    "           'shock_service_url': 'https://kbase.us/services/shock-api/'}\n",
    "asm_old = api.AssemblyAPI(services=services, token=token, ref='2907/53059/1')"
   ]
  },
  {
   "cell_type": "code",
   "execution_count": 3,
   "metadata": {
    "collapsed": false
   },
   "outputs": [],
   "source": [
    "asm_old.get_fasta().to_file(file('arabidopsis-old.fasta', 'w'))"
   ]
  },
  {
   "cell_type": "code",
   "execution_count": 4,
   "metadata": {
    "collapsed": false
   },
   "outputs": [
    {
     "data": {
      "text/plain": [
       "['kb|g.3899.c.3',\n",
       " 'kb|g.3899.c.2',\n",
       " 'kb|g.3899.c.1',\n",
       " 'kb|g.3899.c.0',\n",
       " 'kb|g.3899.c.6',\n",
       " 'kb|g.3899.c.5',\n",
       " 'kb|g.3899.c.4']"
      ]
     },
     "execution_count": 4,
     "metadata": {},
     "output_type": "execute_result"
    }
   ],
   "source": [
    "arabidopsis_old = Fasta('arabidopsis-old.fasta')\n",
    "arabidopsis_old.keys()"
   ]
  },
  {
   "cell_type": "code",
   "execution_count": null,
   "metadata": {
    "collapsed": true
   },
   "outputs": [],
   "source": []
  }
 ],
 "metadata": {
  "kernelspec": {
   "display_name": "Python 2",
   "language": "python",
   "name": "python2"
  },
  "language_info": {
   "codemirror_mode": {
    "name": "ipython",
    "version": 2
   },
   "file_extension": ".py",
   "mimetype": "text/x-python",
   "name": "python",
   "nbconvert_exporter": "python",
   "pygments_lexer": "ipython2",
   "version": "2.7.11"
  }
 },
 "nbformat": 4,
 "nbformat_minor": 0
}
