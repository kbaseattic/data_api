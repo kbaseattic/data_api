{
 "cells": [
  {
   "cell_type": "code",
   "execution_count": 21,
   "metadata": {
    "collapsed": false
   },
   "outputs": [],
   "source": [
    "from doekbase.data_api.sequence.assembly.api import AssemblyAPI\n",
    "from doekbase.data_api.annotation.genome_annotation.api import GenomeAnnotationAPI\n",
    "from doekbase.data_api.taxonomy.taxon.api import TaxonAPI\n",
    "from doekbase.workspace.client import Workspace\n",
    "from doekbase.data_api.core import ObjectAPI\n",
    "from doekbase.handle.Client import AbstractHandle as handleClient\n",
    "\n",
    "services = {\"workspace_service_url\": \"https://ci.kbase.us/services/ws/\",\n",
    "            \"shock_service_url\": \"https://ci.kbase.us/services/shock-api/\",\n",
    "            \"handle_service_url\": \"https://ci.kbase.us/services/handle_service/\"}\n",
    "\n",
    "import os"
   ]
  },
  {
   "cell_type": "code",
   "execution_count": 56,
   "metadata": {
    "collapsed": false
   },
   "outputs": [],
   "source": [
    "token = os.environ[\"KB_AUTH_TOKEN\"]\n",
    "\n",
    "genome_ref = '6838/146'#ReferenceGenomeAnnotations/kb|g.166819\n",
    "\n",
    "GenomAnnotation_type = 'KBaseGenomeAnnotations.GenomeAnnotation-2.1'\n",
    "\n",
    "ga_api = GenomeAnnotationAPI(services, token=token, ref=genome_ref)\n",
    "\n",
    "ga_object = ObjectAPI(services, token=token, ref=genome_ref)\n",
    "asm_object = ObjectAPI(services, token=token, ref=genome_ref)\n",
    "\n",
    "tax_api = ga_api.get_taxon()\n",
    "\n",
    "asm_api = ga_api.get_assembly()"
   ]
  },
  {
   "cell_type": "code",
   "execution_count": 30,
   "metadata": {
    "collapsed": false
   },
   "outputs": [],
   "source": [
    "#from Gavin's file converter\n",
    "def upload_workspace_data(cs, ws_url, source_ref, target_ws, obj_name):\n",
    "    ws = Workspace(ws_url, token=token)\n",
    "    type_ = GenomAnnotation_type\n",
    "    ws.save_objects(\n",
    "        {'workspace': target_ws,\n",
    "         'objects': [{'name': obj_name,\n",
    "                      'type': type_,\n",
    "                      'data': cs,\n",
    "                      'provenance': [{'script': 'fakey',\n",
    "                                      'script_ver': '1.2.3',\n",
    "                                      'input_ws_objects': [source_ref],\n",
    "                                      }]\n",
    "                      }\n",
    "                     ]\n",
    "         }\n",
    "    )\n",
    "    "
   ]
  },
  {
   "cell_type": "code",
   "execution_count": 33,
   "metadata": {
    "collapsed": false
   },
   "outputs": [
    {
     "name": "stdout",
     "output_type": "stream",
     "text": [
      "628\n"
     ]
    }
   ],
   "source": [
    "genome_dict = dict()\n",
    "\n",
    "genome_dict['id'] = asm_object.get_data_subset([\"external_source\"])[\"external_source\"]\n",
    "\n",
    "genome_dict['scientific_name'] = tax_api.get_scientific_name()\n",
    "genome_dict['domain'] = tax_api.get_domain()\n",
    "genome_dict['genetic_code'] = tax_api.get_genetic_code()\n",
    "genome_dict['dna_size'] = asm_api.get_dna_size()\n",
    "genome_dict['num_contigs'] = asm_api.get_number_contigs()\n",
    "\n",
    "genome_dict['contig_lengths'] = asm_api.get_contig_lengths()\n",
    "genome_dict['contig_ids'] = asm_api.get_contig_ids()\n",
    "genome_dict['source'] = asm_object.get_data_subset([\"external_source_id\"])[\"external_source_id\"]\n",
    "genome_dict['source_id'] = asm_object.get_data_subset([\"external_source\"])[\"external_source\"]\n",
    "genome_dict['md5'] = asm_object.get_data_subset([\"md5\"])[\"md5\"]\n",
    "genome_dict['taxonomy'] = tax_api.get_scientific_lineage()\n",
    "genome_dict['gc_content'] = asm_api.get_gc_content()\n",
    "genome_dict['complete'] = 1\n",
    "\n",
    "#not loaded in GenomeAnnotation?\n",
    "#genome_dict['publications'] = "
   ]
  },
  {
   "cell_type": "code",
   "execution_count": 57,
   "metadata": {
    "collapsed": false
   },
   "outputs": [
    {
     "ename": "KeyError",
     "evalue": "u'protein_2734'",
     "output_type": "error",
     "traceback": [
      "\u001b[0;31m---------------------------------------------------------------------------\u001b[0m",
      "\u001b[0;31mKeyError\u001b[0m                                  Traceback (most recent call last)",
      "\u001b[0;32m<ipython-input-57-0e4fa9b52994>\u001b[0m in \u001b[0;36m<module>\u001b[0;34m()\u001b[0m\n\u001b[1;32m      3\u001b[0m \u001b[0;34m\u001b[0m\u001b[0m\n\u001b[1;32m      4\u001b[0m \u001b[0mfeature_list\u001b[0m \u001b[0;34m=\u001b[0m \u001b[0;34m[\u001b[0m\u001b[0;34m]\u001b[0m\u001b[0;34m\u001b[0m\u001b[0m\n\u001b[0;32m----> 5\u001b[0;31m \u001b[0mproteins\u001b[0m \u001b[0;34m=\u001b[0m \u001b[0mga_api\u001b[0m\u001b[0;34m.\u001b[0m\u001b[0mget_proteins\u001b[0m\u001b[0;34m(\u001b[0m\u001b[0;34m)\u001b[0m\u001b[0;34m\u001b[0m\u001b[0m\n\u001b[0m\u001b[1;32m      6\u001b[0m \u001b[0;32mprint\u001b[0m \u001b[0;34m\"proteins\"\u001b[0m\u001b[0;34m\u001b[0m\u001b[0m\n\u001b[1;32m      7\u001b[0m \u001b[0;34m\u001b[0m\u001b[0m\n",
      "\u001b[0;32m/Users/marcin/Documents/KBase/modules/data_api/venv/lib/python2.7/site-packages/doekbase/data_api/annotation/genome_annotation/api.pyc\u001b[0m in \u001b[0;36mget_proteins\u001b[0;34m(self, cds_feature_id_list)\u001b[0m\n\u001b[1;32m    543\u001b[0m \u001b[0;34m\u001b[0m\u001b[0m\n\u001b[1;32m    544\u001b[0m     \u001b[0;32mdef\u001b[0m \u001b[0mget_proteins\u001b[0m\u001b[0;34m(\u001b[0m\u001b[0mself\u001b[0m\u001b[0;34m,\u001b[0m \u001b[0mcds_feature_id_list\u001b[0m\u001b[0;34m=\u001b[0m\u001b[0mNone\u001b[0m\u001b[0;34m)\u001b[0m\u001b[0;34m:\u001b[0m\u001b[0;34m\u001b[0m\u001b[0m\n\u001b[0;32m--> 545\u001b[0;31m         \u001b[0;32mreturn\u001b[0m \u001b[0mself\u001b[0m\u001b[0;34m.\u001b[0m\u001b[0mproxy\u001b[0m\u001b[0;34m.\u001b[0m\u001b[0mget_proteins\u001b[0m\u001b[0;34m(\u001b[0m\u001b[0mcds_feature_id_list\u001b[0m\u001b[0;34m)\u001b[0m\u001b[0;34m\u001b[0m\u001b[0m\n\u001b[0m\u001b[1;32m    546\u001b[0m \u001b[0;34m\u001b[0m\u001b[0m\n\u001b[1;32m    547\u001b[0m     \u001b[0;32mdef\u001b[0m \u001b[0mget_mrna_utrs\u001b[0m\u001b[0;34m(\u001b[0m\u001b[0mself\u001b[0m\u001b[0;34m,\u001b[0m \u001b[0mmrna_feature_id_list\u001b[0m\u001b[0;34m=\u001b[0m\u001b[0mNone\u001b[0m\u001b[0;34m)\u001b[0m\u001b[0;34m:\u001b[0m\u001b[0;34m\u001b[0m\u001b[0m\n",
      "\u001b[0;32m/Users/marcin/Documents/KBase/modules/data_api/venv/lib/python2.7/site-packages/doekbase/data_api/annotation/genome_annotation/api.pyc\u001b[0m in \u001b[0;36mget_proteins\u001b[0;34m(self, cds_feature_id_list)\u001b[0m\n\u001b[1;32m   1606\u001b[0m                     \u001b[0moutput\u001b[0m\u001b[0;34m[\u001b[0m\u001b[0mx\u001b[0m\u001b[0;34m]\u001b[0m\u001b[0;34m[\u001b[0m\u001b[0mk\u001b[0m\u001b[0;34m]\u001b[0m \u001b[0;34m=\u001b[0m \u001b[0mproteins\u001b[0m\u001b[0;34m[\u001b[0m\u001b[0mx\u001b[0m\u001b[0;34m]\u001b[0m\u001b[0;34m[\u001b[0m\u001b[0mk\u001b[0m\u001b[0;34m]\u001b[0m\u001b[0;34m\u001b[0m\u001b[0m\n\u001b[1;32m   1607\u001b[0m                 \u001b[0;32melse\u001b[0m\u001b[0;34m:\u001b[0m\u001b[0;34m\u001b[0m\u001b[0m\n\u001b[0;32m-> 1608\u001b[0;31m                     \u001b[0moutput\u001b[0m\u001b[0;34m[\u001b[0m\u001b[0mx\u001b[0m\u001b[0;34m]\u001b[0m\u001b[0;34m[\u001b[0m\u001b[0;34m\"protein_\"\u001b[0m \u001b[0;34m+\u001b[0m \u001b[0mk\u001b[0m\u001b[0;34m]\u001b[0m \u001b[0;34m=\u001b[0m \u001b[0mproteins\u001b[0m\u001b[0;34m[\u001b[0m\u001b[0mx\u001b[0m\u001b[0;34m]\u001b[0m\u001b[0;34m[\u001b[0m\u001b[0mk\u001b[0m\u001b[0;34m]\u001b[0m\u001b[0;34m\u001b[0m\u001b[0m\n\u001b[0m\u001b[1;32m   1609\u001b[0m         \u001b[0;32mreturn\u001b[0m \u001b[0moutput\u001b[0m\u001b[0;34m\u001b[0m\u001b[0m\n\u001b[1;32m   1610\u001b[0m \u001b[0;34m\u001b[0m\u001b[0m\n",
      "\u001b[0;31mKeyError\u001b[0m: u'protein_2734'"
     ]
    }
   ],
   "source": [
    "#the Contig list is duplicated in both Genome and ContigSet, \n",
    "#per convention of the Genome uploader only the ContigSet field is populated\n",
    "\n",
    "feature_list = []\n",
    "proteins = ga_api.get_proteins()\n",
    "print \"proteins\"\n",
    "\n",
    "feature_ids = ga_api.get_feature_ids(filters={\"type_list\":['CDS']})\n",
    "if 'CDS' in feature_ids['by_type']:\n",
    "    features_CDS = ga_api.get_features(feature_ids['by_type']['CDS'])\n",
    "    print \"CDS\"\n",
    "\n",
    "for p in proteins:\n",
    "    print p\n",
    "    #print proteins[p].keys()\n",
    "    feature_dict = dict()\n",
    "    feature_dict['id'] = p\n",
    "    \n",
    "    location = {}\n",
    "    if features_cds[p] != null:\n",
    "        location = features_cds[p]['feature_locations']        \n",
    "    feature_dict['location'] = location\n",
    "    feature_dict['type'] = 'CDS'\n",
    "                \n",
    "    feature_dict['function'] = function = proteins[p]['function']\n",
    "    \n",
    "    location = {}\n",
    "    if 'CDS' in feature_ids['by_type']:\n",
    "        location = features_cds[p]['feature_locations']\n",
    "    feature_dict['md5'] = features_cds[f]['feature_md5']\n",
    "    feature_dict['protein_translation'] = proteins[p]['protein_amino_acid_sequence']\n",
    "    \n",
    "    location = {}\n",
    "    if 'CDS' in feature_ids['by_type']:\n",
    "        location = features_cds[p]['feature_locations']\n",
    "    feature_dict['dna_sequence'] = features_cds[f]['feature_dna_sequence'] \n",
    "    \n",
    "    location = {}\n",
    "    if 'CDS' in feature_ids['by_type']:\n",
    "        location = features_cds[p]['feature_locations']        \n",
    "    feature_dict['dna_sequence_length'] = features_cds[p]['feature_dna_sequence_length']\n",
    "    feature_dict['aliases'] = proteins[p]['protein_aliases']\n",
    "    feature_list.append(feature_dict)\n",
    "    \n",
    "\n",
    "feature_ids_gene = ga_api.get_feature_ids(filters={\"type_list\":['gene']})\n",
    "print \"ids gene\"\n",
    "if 'gene' in feature_ids_gene['by_type']:\n",
    "    features = ga_api.get_features(feature_ids_gene['by_type']['gene'])\n",
    "    print\"gene\"\n",
    "\n",
    "    for f in features:\n",
    "        print f\n",
    "        #print features[f]\n",
    "        feature_dict = dict()\n",
    "        feature_dict['id'] = features[f]['feature_id'] \n",
    "        feature_dict['location'] = features[f]['feature_locations']\n",
    "        feature_dict['type'] = 'gene'\n",
    "        feature_dict['function'] = features[f]['feature_function']\n",
    "        feature_dict['md5'] = features[f]['feature_md5']\n",
    "        feature_dict['protein_translation'] = \"\"\n",
    "        feature_dict['dna_sequence'] = features[f]['feature_dna_sequence'] \n",
    "        feature_dict['dna_sequence_length'] = features[f]['feature_dna_sequence_length']\n",
    "        feature_dict['aliases'] = features[f]['feature_aliases']\n",
    "        feature_list.append(feature_dict)\n",
    "\n",
    "    \n",
    "    \n",
    "#RNA\n",
    "feature_ids_RNA = ga_api.get_feature_ids(filters={\"type_list\":['RNA']})\n",
    "print \"ids RNA\"\n",
    "\n",
    "if 'RNA' in feature_ids_RNA['by_type']:\n",
    "    features = ga_api.get_features(feature_ids_RNA['by_type']['RNA'])\n",
    "    print\"gene\"\n",
    "\n",
    "    #obj.get_features(obj.get_feature_ids({'region_list':filters})['by_type']['gene'])\n",
    "\n",
    "    for f in features:\n",
    "        print f\n",
    "        #print features[f]\n",
    "        feature_dict = dict()\n",
    "        feature_dict['id'] = features[f]['feature_id'] \n",
    "        feature_dict['location'] = features[f]['feature_locations']\n",
    "        feature_dict['type'] = 'RNA'\n",
    "        feature_dict['function'] = features[f]['feature_function']\n",
    "        feature_dict['md5'] = features[f]['feature_md5']\n",
    "        feature_dict['protein_translation'] = \"\"\n",
    "        feature_dict['dna_sequence'] = features[f]['feature_dna_sequence'] \n",
    "        feature_dict['dna_sequence_length'] = features[f]['feature_dna_sequence_length']\n",
    "        feature_dict['aliases'] = features[f]['feature_aliases']\n",
    "        feature_list.append(feature_dict)\n",
    "\n",
    "\n",
    "\n",
    "genome_dict['features'] = feature_list\n"
   ]
  },
  {
   "cell_type": "code",
   "execution_count": 15,
   "metadata": {
    "collapsed": true
   },
   "outputs": [],
   "source": [
    "#fill with proper ref\n",
    "genome_dict['contigset_ref'] = str(0)+'/'+str(0)+'/'+str(0)"
   ]
  },
  {
   "cell_type": "code",
   "execution_count": 16,
   "metadata": {
    "collapsed": true
   },
   "outputs": [],
   "source": [
    "import json\n",
    "g_data = json.dumps(genome_dict)"
   ]
  },
  {
   "cell_type": "code",
   "execution_count": 60,
   "metadata": {
    "collapsed": false
   },
   "outputs": [
    {
     "name": "stdout",
     "output_type": "stream",
     "text": [
      "628\n"
     ]
    },
    {
     "ename": "ServerError",
     "evalue": "JSONRPCError: -32500. Object #1, 628_Genome failed type checking:\ninstance type (string) does not match any allowed primitive type (allowed: [\"object\"]), at \nus.kbase.typedobj.exceptions.TypedObjectValidationException: Object #1, 628_Genome failed type checking:\ninstance type (string) does not match any allowed primitive type (allowed: [\"object\"]), at \n\tat us.kbase.workspace.database.Workspace.validate(Workspace.java:848)\n\tat us.kbase.workspace.database.Workspace.validateObjectsAndExtractReferences(Workspace.java:719)\n\tat us.kbase.workspace.database.Workspace.saveObjects(Workspace.java:621)\n\tat us.kbase.workspace.kbase.WorkspaceServerMethods.saveObjects(WorkspaceServerMethods.java:255)\n\tat us.kbase.workspace.WorkspaceServer.saveObjects(WorkspaceServer.java:613)\n\tat sun.reflect.GeneratedMethodAccessor176.invoke(Unknown Source)\n\tat sun.reflect.DelegatingMethodAccessorImpl.invoke(DelegatingMethodAccessorImpl.java:43)\n\tat java.lang.reflect.Method.invoke(Method.java:606)\n\tat us.kbase.common.service.JsonServerServlet.processRpcCall(JsonServerServlet.java:559)\n\tat us.kbase.common.service.JsonServerServlet.doPost(JsonServerServlet.java:414)\n\tat javax.servlet.http.HttpServlet.service(HttpServlet.java:688)\n\tat javax.servlet.http.HttpServlet.service(HttpServlet.java:770)\n\tat org.apache.catalina.core.StandardWrapper.service(StandardWrapper.java:1550)\n\tat org.apache.catalina.core.StandardWrapperValve.invoke(StandardWrapperValve.java:281)\n\tat org.apache.catalina.core.StandardContextValve.invoke(StandardContextValve.java:175)\n\tat org.apache.catalina.core.StandardPipeline.doInvoke(StandardPipeline.java:655)\n\tat org.apache.catalina.core.StandardPipeline.invoke(StandardPipeline.java:595)\n\tat org.apache.catalina.core.StandardHostValve.invoke(StandardHostValve.java:161)\n\tat org.apache.catalina.connector.CoyoteAdapter.doService(CoyoteAdapter.java:331)\n\tat org.apache.catalina.connector.CoyoteAdapter.service(CoyoteAdapter.java:231)\n\tat com.sun.enterprise.v3.services.impl.ContainerMapper$AdapterCallable.call(ContainerMapper.java:317)\n\tat com.sun.enterprise.v3.services.impl.ContainerMapper.service(ContainerMapper.java:195)\n\tat com.sun.grizzly.http.ProcessorTask.invokeAdapter(ProcessorTask.java:860)\n\tat com.sun.grizzly.http.ProcessorTask.doProcess(ProcessorTask.java:757)\n\tat com.sun.grizzly.http.ProcessorTask.process(ProcessorTask.java:1056)\n\tat com.sun.grizzly.http.DefaultProtocolFilter.execute(DefaultProtocolFilter.java:229)\n\tat com.sun.grizzly.DefaultProtocolChain.executeProtocolFilter(DefaultProtocolChain.java:137)\n\tat com.sun.grizzly.DefaultProtocolChain.execute(DefaultProtocolChain.java:104)\n\tat com.sun.grizzly.DefaultProtocolChain.execute(DefaultProtocolChain.java:90)\n\tat com.sun.grizzly.http.HttpProtocolChain.execute(HttpProtocolChain.java:79)\n\tat com.sun.grizzly.ProtocolChainContextTask.doCall(ProtocolChainContextTask.java:54)\n\tat com.sun.grizzly.SelectionKeyContextTask.call(SelectionKeyContextTask.java:59)\n\tat com.sun.grizzly.ContextTask.run(ContextTask.java:71)\n\tat com.sun.grizzly.util.AbstractThreadPool$Worker.doWork(AbstractThreadPool.java:532)\n\tat com.sun.grizzly.util.AbstractThreadPool$Worker.run(AbstractThreadPool.java:513)\n\tat java.lang.Thread.run(Thread.java:744)\n",
     "output_type": "error",
     "traceback": [
      "\u001b[0;31m---------------------------------------------------------------------------\u001b[0m",
      "\u001b[0;31mServerError\u001b[0m                               Traceback (most recent call last)",
      "\u001b[0;32m<ipython-input-60-30b68a22f209>\u001b[0m in \u001b[0;36m<module>\u001b[0;34m()\u001b[0m\n\u001b[1;32m     11\u001b[0m upload_workspace_data(\n\u001b[1;32m     12\u001b[0m             \u001b[0mg_data\u001b[0m\u001b[0;34m,\u001b[0m \u001b[0mservices\u001b[0m\u001b[0;34m[\u001b[0m\u001b[0;34m\"workspace_service_url\"\u001b[0m\u001b[0;34m]\u001b[0m\u001b[0;34m,\u001b[0m \u001b[0mref\u001b[0m\u001b[0;34m,\u001b[0m\u001b[0;34m\u001b[0m\u001b[0m\n\u001b[0;32m---> 13\u001b[0;31m             \"marcin:1458173367710\", name)#6865 #ConvertAssemblytoContigSet\n\u001b[0m",
      "\u001b[0;32m<ipython-input-30-b186aea8e3ee>\u001b[0m in \u001b[0;36mupload_workspace_data\u001b[0;34m(cs, ws_url, source_ref, target_ws, obj_name)\u001b[0m\n\u001b[1;32m     10\u001b[0m                       'provenance': [{'script': 'fakey',\n\u001b[1;32m     11\u001b[0m                                       \u001b[0;34m'script_ver'\u001b[0m\u001b[0;34m:\u001b[0m \u001b[0;34m'1.2.3'\u001b[0m\u001b[0;34m,\u001b[0m\u001b[0;34m\u001b[0m\u001b[0m\n\u001b[0;32m---> 12\u001b[0;31m                                       \u001b[0;34m'input_ws_objects'\u001b[0m\u001b[0;34m:\u001b[0m \u001b[0;34m[\u001b[0m\u001b[0msource_ref\u001b[0m\u001b[0;34m]\u001b[0m\u001b[0;34m,\u001b[0m\u001b[0;34m\u001b[0m\u001b[0m\n\u001b[0m\u001b[1;32m     13\u001b[0m                                       }]\n\u001b[1;32m     14\u001b[0m                       }\n",
      "\u001b[0;32m/Users/marcin/Documents/KBase/modules/data_api/venv/lib/python2.7/site-packages/doekbase/workspace/client.pyc\u001b[0m in \u001b[0;36msave_objects\u001b[0;34m(self, params)\u001b[0m\n\u001b[1;32m    229\u001b[0m     \u001b[0;32mdef\u001b[0m \u001b[0msave_objects\u001b[0m\u001b[0;34m(\u001b[0m\u001b[0mself\u001b[0m\u001b[0;34m,\u001b[0m \u001b[0mparams\u001b[0m\u001b[0;34m)\u001b[0m\u001b[0;34m:\u001b[0m\u001b[0;34m\u001b[0m\u001b[0m\n\u001b[1;32m    230\u001b[0m         resp = self._call('Workspace.save_objects',\n\u001b[0;32m--> 231\u001b[0;31m                           [params])\n\u001b[0m\u001b[1;32m    232\u001b[0m         \u001b[0;32mreturn\u001b[0m \u001b[0mresp\u001b[0m\u001b[0;34m[\u001b[0m\u001b[0;36m0\u001b[0m\u001b[0;34m]\u001b[0m\u001b[0;34m\u001b[0m\u001b[0m\n\u001b[1;32m    233\u001b[0m \u001b[0;34m\u001b[0m\u001b[0m\n",
      "\u001b[0;32m/Users/marcin/Documents/KBase/modules/data_api/venv/lib/python2.7/site-packages/doekbase/workspace/client.pyc\u001b[0m in \u001b[0;36m_call\u001b[0;34m(self, method, params)\u001b[0m\n\u001b[1;32m    154\u001b[0m                 \u001b[0merr\u001b[0m \u001b[0;34m=\u001b[0m \u001b[0m_json\u001b[0m\u001b[0;34m.\u001b[0m\u001b[0mloads\u001b[0m\u001b[0;34m(\u001b[0m\u001b[0mret\u001b[0m\u001b[0;34m.\u001b[0m\u001b[0mtext\u001b[0m\u001b[0;34m)\u001b[0m\u001b[0;34m\u001b[0m\u001b[0m\n\u001b[1;32m    155\u001b[0m                 \u001b[0;32mif\u001b[0m \u001b[0;34m'error'\u001b[0m \u001b[0;32min\u001b[0m \u001b[0merr\u001b[0m\u001b[0;34m:\u001b[0m\u001b[0;34m\u001b[0m\u001b[0m\n\u001b[0;32m--> 156\u001b[0;31m                     \u001b[0;32mraise\u001b[0m \u001b[0mServerError\u001b[0m\u001b[0;34m(\u001b[0m\u001b[0;34m**\u001b[0m\u001b[0merr\u001b[0m\u001b[0;34m[\u001b[0m\u001b[0;34m'error'\u001b[0m\u001b[0;34m]\u001b[0m\u001b[0;34m)\u001b[0m\u001b[0;34m\u001b[0m\u001b[0m\n\u001b[0m\u001b[1;32m    157\u001b[0m                 \u001b[0;32melse\u001b[0m\u001b[0;34m:\u001b[0m\u001b[0;34m\u001b[0m\u001b[0m\n\u001b[1;32m    158\u001b[0m                     \u001b[0;32mraise\u001b[0m \u001b[0mServerError\u001b[0m\u001b[0;34m(\u001b[0m\u001b[0;34m'Unknown'\u001b[0m\u001b[0;34m,\u001b[0m \u001b[0;36m0\u001b[0m\u001b[0;34m,\u001b[0m \u001b[0mret\u001b[0m\u001b[0;34m.\u001b[0m\u001b[0mtext\u001b[0m\u001b[0;34m)\u001b[0m\u001b[0;34m\u001b[0m\u001b[0m\n",
      "\u001b[0;31mServerError\u001b[0m: JSONRPCError: -32500. Object #1, 628_Genome failed type checking:\ninstance type (string) does not match any allowed primitive type (allowed: [\"object\"]), at \nus.kbase.typedobj.exceptions.TypedObjectValidationException: Object #1, 628_Genome failed type checking:\ninstance type (string) does not match any allowed primitive type (allowed: [\"object\"]), at \n\tat us.kbase.workspace.database.Workspace.validate(Workspace.java:848)\n\tat us.kbase.workspace.database.Workspace.validateObjectsAndExtractReferences(Workspace.java:719)\n\tat us.kbase.workspace.database.Workspace.saveObjects(Workspace.java:621)\n\tat us.kbase.workspace.kbase.WorkspaceServerMethods.saveObjects(WorkspaceServerMethods.java:255)\n\tat us.kbase.workspace.WorkspaceServer.saveObjects(WorkspaceServer.java:613)\n\tat sun.reflect.GeneratedMethodAccessor176.invoke(Unknown Source)\n\tat sun.reflect.DelegatingMethodAccessorImpl.invoke(DelegatingMethodAccessorImpl.java:43)\n\tat java.lang.reflect.Method.invoke(Method.java:606)\n\tat us.kbase.common.service.JsonServerServlet.processRpcCall(JsonServerServlet.java:559)\n\tat us.kbase.common.service.JsonServerServlet.doPost(JsonServerServlet.java:414)\n\tat javax.servlet.http.HttpServlet.service(HttpServlet.java:688)\n\tat javax.servlet.http.HttpServlet.service(HttpServlet.java:770)\n\tat org.apache.catalina.core.StandardWrapper.service(StandardWrapper.java:1550)\n\tat org.apache.catalina.core.StandardWrapperValve.invoke(StandardWrapperValve.java:281)\n\tat org.apache.catalina.core.StandardContextValve.invoke(StandardContextValve.java:175)\n\tat org.apache.catalina.core.StandardPipeline.doInvoke(StandardPipeline.java:655)\n\tat org.apache.catalina.core.StandardPipeline.invoke(StandardPipeline.java:595)\n\tat org.apache.catalina.core.StandardHostValve.invoke(StandardHostValve.java:161)\n\tat org.apache.catalina.connector.CoyoteAdapter.doService(CoyoteAdapter.java:331)\n\tat org.apache.catalina.connector.CoyoteAdapter.service(CoyoteAdapter.java:231)\n\tat com.sun.enterprise.v3.services.impl.ContainerMapper$AdapterCallable.call(ContainerMapper.java:317)\n\tat com.sun.enterprise.v3.services.impl.ContainerMapper.service(ContainerMapper.java:195)\n\tat com.sun.grizzly.http.ProcessorTask.invokeAdapter(ProcessorTask.java:860)\n\tat com.sun.grizzly.http.ProcessorTask.doProcess(ProcessorTask.java:757)\n\tat com.sun.grizzly.http.ProcessorTask.process(ProcessorTask.java:1056)\n\tat com.sun.grizzly.http.DefaultProtocolFilter.execute(DefaultProtocolFilter.java:229)\n\tat com.sun.grizzly.DefaultProtocolChain.executeProtocolFilter(DefaultProtocolChain.java:137)\n\tat com.sun.grizzly.DefaultProtocolChain.execute(DefaultProtocolChain.java:104)\n\tat com.sun.grizzly.DefaultProtocolChain.execute(DefaultProtocolChain.java:90)\n\tat com.sun.grizzly.http.HttpProtocolChain.execute(HttpProtocolChain.java:79)\n\tat com.sun.grizzly.ProtocolChainContextTask.doCall(ProtocolChainContextTask.java:54)\n\tat com.sun.grizzly.SelectionKeyContextTask.call(SelectionKeyContextTask.java:59)\n\tat com.sun.grizzly.ContextTask.run(ContextTask.java:71)\n\tat com.sun.grizzly.util.AbstractThreadPool$Worker.doWork(AbstractThreadPool.java:532)\n\tat com.sun.grizzly.util.AbstractThreadPool$Worker.run(AbstractThreadPool.java:513)\n\tat java.lang.Thread.run(Thread.java:744)\n"
     ]
    }
   ],
   "source": [
    "#ref = str(info[6]) + '/' + str(info[0]) + '/' + str(info[4])\n",
    "#fill with proper ref\n",
    "ref = str(0)+'/'+str(0)+'/'+str(0)\n",
    "\n",
    "print genome_dict['id']\n",
    "\n",
    "name = genome_dict['id']\n",
    "if isinstance( genome_dict['id'], ( int, long ) ):\n",
    "    name = str(genome_dict['id']) + \"_Genome\"\n",
    "\n",
    "upload_workspace_data(\n",
    "            g_data, services[\"workspace_service_url\"], ref,\n",
    "            \"marcin:1458173367710\", name)#6865 #ConvertAssemblytoContigSet"
   ]
  },
  {
   "cell_type": "code",
   "execution_count": 58,
   "metadata": {
    "collapsed": false
   },
   "outputs": [
    {
     "name": "stdout",
     "output_type": "stream",
     "text": [
      "[]\n"
     ]
    }
   ],
   "source": [
    "ws = Workspace(services[\"workspace_service_url\"], token=token)\n",
    "print ws.list_workspace_info({\"owners\": [\"b\"]})#[]['narrative_nice_name']"
   ]
  },
  {
   "cell_type": "code",
   "execution_count": null,
   "metadata": {
    "collapsed": true
   },
   "outputs": [],
   "source": [
    "ws.get_type_info(\"KBaseGenomeAnnotations.GenomeAnnotation\")\n",
    "\n",
    "\n"
   ]
  }
 ],
 "metadata": {
  "kernelspec": {
   "display_name": "Python 2",
   "language": "python",
   "name": "python2"
  },
  "language_info": {
   "codemirror_mode": {
    "name": "ipython",
    "version": 2
   },
   "file_extension": ".py",
   "mimetype": "text/x-python",
   "name": "python",
   "nbconvert_exporter": "python",
   "pygments_lexer": "ipython2",
   "version": "2.7.10"
  }
 },
 "nbformat": 4,
 "nbformat_minor": 0
}
