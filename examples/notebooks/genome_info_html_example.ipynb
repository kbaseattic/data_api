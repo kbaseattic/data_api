{
 "cells": [
  {
   "cell_type": "code",
   "execution_count": 47,
   "metadata": {
    "collapsed": false
   },
   "outputs": [],
   "source": [
    "import os\n",
    "#os.environ['KB_AUTH_TOKEN'] = open('/tmp/kb_auth_token.txt').read().strip()"
   ]
  },
  {
   "cell_type": "code",
   "execution_count": 48,
   "metadata": {
    "collapsed": false
   },
   "outputs": [],
   "source": [
    "import doekbase.data_api\n",
    "from doekbase.data_api.annotation.genome_annotation.api import GenomeAnnotationAPI\n",
    "\n",
    "#import biokbase\n",
    "#import biokbase.data_api.tests as tests\n",
    "#import biokbase.data_api.object\n",
    "#import biokbase.data_api.assembly\n",
    "#import biokbase.data_api.taxon\n",
    "#import biokbase.data_api.genome_annotation\n",
    "\n",
    "import pandas as pd\n",
    "import numpy as np\n",
    "import qgrid as qg\n",
    "qg.nbinstall()\n",
    "import matplotlib\n",
    "import matplotlib.pyplot as plt\n",
    "from matplotlib.font_manager import FontProperties\n",
    "%matplotlib inline\n",
    "\n",
    "services = {\n",
    "        \"workspace_service_url\": \"https://ci.kbase.us/services/ws/\",\n",
    "        \"shock_service_url\": \"https://ci.kbase.us/services/shock-api/\",\n",
    "    }"
   ]
  },
  {
   "cell_type": "code",
   "execution_count": 49,
   "metadata": {
    "collapsed": true
   },
   "outputs": [],
   "source": [
    "def get_genome_summary(genome_annotation=None):\n",
    "    if genome_annotation == None:\n",
    "        raise TypeError(\"No GenomeAnnotation object given.\")\n",
    "    elif genome_annotation.get_typestring().split('-')[0] not in biokbase.data_api.genome_annotation.TYPES:\n",
    "        raise TypeError(\"{0} is not a recognized GenomeAnnotation type.\".format(type(genome_annotation)))\n",
    "    \n",
    "    taxon = genome_annotation.get_taxon()\n",
    "    assembly = genome_annotation.get_assembly()\n",
    "    \n",
    "    overview = dict()\n",
    "    \n",
    "    #get tax info\n",
    "    taxon_details = dict()\n",
    "    taxon_details[\"taxonomic_id\"] = taxon.get_taxonomic_id()\n",
    "    taxon_details[\"kingdom\"] = taxon.get_kingdom()\n",
    "    taxon_details[\"domain\"] = taxon.get_domain()\n",
    "    taxon_details[\"genetic_code\"] = taxon.get_genetic_code()\n",
    "    taxon_details[\"scientific_name\"] = taxon.get_scientific_name()\n",
    "    taxon_details[\"aliases\"] = taxon.get_aliases()\n",
    "    taxon_details[\"scientific_lineage\"] = taxon.get_scientific_lineage()\n",
    "\n",
    "    overview[\"taxon\"] = taxon_details\n",
    "    \n",
    "    #get assembly info\n",
    "    assembly_details = dict()\n",
    "    assembly_details[\"number_of_contigs\"] = assembly.get_number_contigs()\n",
    "    assembly_details[\"total_length\"] = assembly.get_dna_size()\n",
    "    assembly_details[\"total_gc_content\"] = assembly.get_gc_content()\n",
    "    assembly_details[\"contig_length\"] = assembly.get_contig_lengths()\n",
    "    assembly_details[\"contig_gc_content\"] = assembly.get_contig_gc_content()\n",
    "    \n",
    "    overview[\"assembly\"] = assembly_details\n",
    "    \n",
    "    #get annotation info\n",
    "    annotation_details = dict()\n",
    "    annotation_details[\"feature_types\"] = genome_annotation.get_feature_types()\n",
    "    annotation_details[\"feature_type_descriptions\"] = genome_annotation.get_feature_type_descriptions(annotation_details[\"feature_types\"])\n",
    "    annotation_details[\"feature_type_counts\"] = genome_annotation.get_feature_type_counts(annotation_details[\"feature_types\"])\n",
    "    \n",
    "    overview[\"annotation\"] = annotation_details\n",
    "    \n",
    "    return overview"
   ]
  },
  {
   "cell_type": "code",
   "execution_count": 50,
   "metadata": {
    "collapsed": false
   },
   "outputs": [],
   "source": [
    "import pprint\n",
    "import datetime\n",
    "\n",
    "def parse_all_existing_annotations():\n",
    "    annotations = dict()\n",
    "    for x in object_list:\n",
    "        if x.type.startswith(\"KBaseGenomes.Genome\"):\n",
    "            annotations[x.name] = x\n",
    "    return annotations\n",
    "\n",
    "#b = biokbase.data_api.browse(1011)\n",
    "#object_list = b.ls()\n",
    "\n",
    "#test = b[\"kb|g.3157\"]#object_list#\n",
    "\n",
    "genome=\"kb|g.3157\"\n",
    "\n",
    "token = None\n",
    "s = \"\"\n",
    "test_annotations = [GenomeAnnotationAPI(services, token, s.join((\"ReferenceGenomeAnnotations/\",genome)))]\n",
    "    \n",
    "    \n",
    "\n",
    "#annotations = {}\n",
    "#for n in object_list:\n",
    "#    annotations.update({n.name:n.object})"
   ]
  },
  {
   "cell_type": "code",
   "execution_count": 51,
   "metadata": {
    "collapsed": false
   },
   "outputs": [
    {
     "name": "stdout",
     "output_type": "stream",
     "text": [
      "0\n"
     ]
    },
    {
     "ename": "AttributeError",
     "evalue": "'NoneType' object has no attribute '_id'",
     "output_type": "error",
     "traceback": [
      "\u001b[0;31m---------------------------------------------------------------------------\u001b[0m",
      "\u001b[0;31mAttributeError\u001b[0m                            Traceback (most recent call last)",
      "\u001b[0;32m<ipython-input-51-da33ec5e9f50>\u001b[0m in \u001b[0;36m<module>\u001b[0;34m()\u001b[0m\n\u001b[1;32m      9\u001b[0m     \u001b[0;32mprint\u001b[0m \u001b[0mn\u001b[0m\u001b[0;34m\u001b[0m\u001b[0m\n\u001b[1;32m     10\u001b[0m     \u001b[0;31m#if count < 100 :\u001b[0m\u001b[0;34m\u001b[0m\u001b[0;34m\u001b[0m\u001b[0m\n\u001b[0;32m---> 11\u001b[0;31m     \u001b[0mover_now\u001b[0m \u001b[0;34m=\u001b[0m \u001b[0mget_genome_summary\u001b[0m\u001b[0;34m(\u001b[0m\u001b[0mtest_annotations\u001b[0m\u001b[0;34m[\u001b[0m\u001b[0mn\u001b[0m\u001b[0;34m]\u001b[0m\u001b[0;34m)\u001b[0m\u001b[0;34m\u001b[0m\u001b[0m\n\u001b[0m\u001b[1;32m     12\u001b[0m     \u001b[0moverview\u001b[0m\u001b[0;34m.\u001b[0m\u001b[0mappend\u001b[0m\u001b[0;34m(\u001b[0m\u001b[0mover_now\u001b[0m\u001b[0;34m)\u001b[0m\u001b[0;34m\u001b[0m\u001b[0m\n\u001b[1;32m     13\u001b[0m     \u001b[0;31m#print over_now[\"assembly\"][\"number_of_contigs\"]\u001b[0m\u001b[0;34m\u001b[0m\u001b[0;34m\u001b[0m\u001b[0m\n",
      "\u001b[0;32m<ipython-input-49-143641b53a91>\u001b[0m in \u001b[0;36mget_genome_summary\u001b[0;34m(genome_annotation)\u001b[0m\n\u001b[1;32m      1\u001b[0m \u001b[0;32mdef\u001b[0m \u001b[0mget_genome_summary\u001b[0m\u001b[0;34m(\u001b[0m\u001b[0mgenome_annotation\u001b[0m\u001b[0;34m=\u001b[0m\u001b[0mNone\u001b[0m\u001b[0;34m)\u001b[0m\u001b[0;34m:\u001b[0m\u001b[0;34m\u001b[0m\u001b[0m\n\u001b[0;32m----> 2\u001b[0;31m     \u001b[0;32mif\u001b[0m \u001b[0mgenome_annotation\u001b[0m \u001b[0;34m==\u001b[0m \u001b[0mNone\u001b[0m\u001b[0;34m:\u001b[0m\u001b[0;34m\u001b[0m\u001b[0m\n\u001b[0m\u001b[1;32m      3\u001b[0m         \u001b[0;32mraise\u001b[0m \u001b[0mTypeError\u001b[0m\u001b[0;34m(\u001b[0m\u001b[0;34m\"No GenomeAnnotation object given.\"\u001b[0m\u001b[0;34m)\u001b[0m\u001b[0;34m\u001b[0m\u001b[0m\n\u001b[1;32m      4\u001b[0m     \u001b[0;32melif\u001b[0m \u001b[0mgenome_annotation\u001b[0m\u001b[0;34m.\u001b[0m\u001b[0mget_typestring\u001b[0m\u001b[0;34m(\u001b[0m\u001b[0;34m)\u001b[0m\u001b[0;34m.\u001b[0m\u001b[0msplit\u001b[0m\u001b[0;34m(\u001b[0m\u001b[0;34m'-'\u001b[0m\u001b[0;34m)\u001b[0m\u001b[0;34m[\u001b[0m\u001b[0;36m0\u001b[0m\u001b[0;34m]\u001b[0m \u001b[0;32mnot\u001b[0m \u001b[0;32min\u001b[0m \u001b[0mbiokbase\u001b[0m\u001b[0;34m.\u001b[0m\u001b[0mdata_api\u001b[0m\u001b[0;34m.\u001b[0m\u001b[0mgenome_annotation\u001b[0m\u001b[0;34m.\u001b[0m\u001b[0mTYPES\u001b[0m\u001b[0;34m:\u001b[0m\u001b[0;34m\u001b[0m\u001b[0m\n\u001b[1;32m      5\u001b[0m         \u001b[0;32mraise\u001b[0m \u001b[0mTypeError\u001b[0m\u001b[0;34m(\u001b[0m\u001b[0;34m\"{0} is not a recognized GenomeAnnotation type.\"\u001b[0m\u001b[0;34m.\u001b[0m\u001b[0mformat\u001b[0m\u001b[0;34m(\u001b[0m\u001b[0mtype\u001b[0m\u001b[0;34m(\u001b[0m\u001b[0mgenome_annotation\u001b[0m\u001b[0;34m)\u001b[0m\u001b[0;34m)\u001b[0m\u001b[0;34m)\u001b[0m\u001b[0;34m\u001b[0m\u001b[0m\n",
      "\u001b[0;32m/Users/marcin/Documents/KBase/modules/data_api/venv/lib/python2.7/site-packages/doekbase/data_api/core.pyc\u001b[0m in \u001b[0;36m__eq__\u001b[0;34m(self, other)\u001b[0m\n\u001b[1;32m    452\u001b[0m         \"\"\"\n\u001b[1;32m    453\u001b[0m         \u001b[0;31m#print(\"@@ obj. eq called\")\u001b[0m\u001b[0;34m\u001b[0m\u001b[0;34m\u001b[0m\u001b[0m\n\u001b[0;32m--> 454\u001b[0;31m         \u001b[0;32mreturn\u001b[0m \u001b[0mself\u001b[0m\u001b[0;34m.\u001b[0m\u001b[0m_id\u001b[0m \u001b[0;34m==\u001b[0m \u001b[0mother\u001b[0m\u001b[0;34m.\u001b[0m\u001b[0m_id\u001b[0m\u001b[0;34m\u001b[0m\u001b[0m\n\u001b[0m\u001b[1;32m    455\u001b[0m \u001b[0;34m\u001b[0m\u001b[0m\n",
      "\u001b[0;31mAttributeError\u001b[0m: 'NoneType' object has no attribute '_id'"
     ]
    }
   ],
   "source": [
    "from IPython.display import display, HTML\n",
    "\n",
    "#annotations_subset = {b[1].name: b[1].object, b[2].name: b[2].object}\n",
    "\n",
    "overview = []\n",
    "count = 0\n",
    "#print range(1,len(test_annotations),1)\n",
    "for n in range(0,len(test_annotations)):\n",
    "    print n\n",
    "    #if count < 100 :\n",
    "    over_now = get_genome_summary(test_annotations[n])\n",
    "    overview.append(over_now)\n",
    "    #print over_now[\"assembly\"][\"number_of_contigs\"]\n",
    "    string_for_html = '<html><b>Genome</b>: ' + \\\n",
    "    over_now[\"taxon\"][\"scientific_name\"] +\\\n",
    "    '<br><b>GC content</b>: ' + \\\n",
    "    `round(over_now[\"assembly\"][\"total_gc_content\"],3)` +\\\n",
    "    '<br><b>Total DNA sequence length</b>: ' +\\\n",
    "    `(\"{:,}\".format(over_now[\"assembly\"][\"total_length\"])).replace(\"'\",\"\")` +\\\n",
    "    '<br><b>Number of contigs</b>:' +\\\n",
    "    `over_now[\"assembly\"][\"number_of_contigs\"]` +\\\n",
    "    \"</html>\"\n",
    "    display(HTML(string_for_html))\n",
    "    print count\n",
    "    count = count +1\n",
    "   "
   ]
  },
  {
   "cell_type": "code",
   "execution_count": 41,
   "metadata": {
    "collapsed": false
   },
   "outputs": [
    {
     "data": {
      "text/plain": [
       "<doekbase.data_api.annotation.genome_annotation.api.GenomeAnnotationAPI at 0x10bc242d0>"
      ]
     },
     "execution_count": 41,
     "metadata": {},
     "output_type": "execute_result"
    }
   ],
   "source": [
    "test_annotations[n]"
   ]
  },
  {
   "cell_type": "code",
   "execution_count": 39,
   "metadata": {
    "collapsed": false
   },
   "outputs": [
    {
     "data": {
      "text/plain": [
       "[0]"
      ]
     },
     "execution_count": 39,
     "metadata": {},
     "output_type": "execute_result"
    }
   ],
   "source": [
    "range(0,len(t\n",
    "            est_annotations))"
   ]
  }
 ],
 "metadata": {
  "kernelspec": {
   "display_name": "Python 2",
   "language": "python",
   "name": "python2"
  },
  "language_info": {
   "codemirror_mode": {
    "name": "ipython",
    "version": 2
   },
   "file_extension": ".py",
   "mimetype": "text/x-python",
   "name": "python",
   "nbconvert_exporter": "python",
   "pygments_lexer": "ipython2",
   "version": "2.7.10"
  }
 },
 "nbformat": 4,
 "nbformat_minor": 0
}
