{
 "cells": [
  {
   "cell_type": "code",
   "execution_count": 1,
   "metadata": {
    "collapsed": false
   },
   "outputs": [],
   "source": [
    "import os\n",
    "#os.environ['KB_AUTH_TOKEN'] = open('/tmp/kb_auth_token.txt').read().strip()"
   ]
  },
  {
   "cell_type": "code",
   "execution_count": 2,
   "metadata": {
    "collapsed": false
   },
   "outputs": [],
   "source": [
    "#import biokbase\n",
    "#import biokbase.data_api.tests as tests\n",
    "#import biokbase.data_api.object\n",
    "#import biokbase.data_api.assembly\n",
    "#import biokbase.data_api.taxon\n",
    "#import biokbase.data_api.genome_annotation\n",
    "\n",
    "import doekbase.data_api\n",
    "from doekbase.data_api.annotation.genome_annotation.api import GenomeAnnotationAPI\n",
    "from doekbase.data_api.sequence.assembly.api import AssemblyAPI\n",
    "from doekbase.data_api.taxonomy.taxon.api import TaxonAPI\n",
    "\n",
    "import pandas as pd\n",
    "import numpy as np\n",
    "import qgrid as qg\n",
    "qg.nbinstall()\n",
    "import matplotlib\n",
    "import matplotlib.pyplot as plt\n",
    "from matplotlib.font_manager import FontProperties\n",
    "%matplotlib inline"
   ]
  },
  {
   "cell_type": "code",
   "execution_count": 26,
   "metadata": {
    "collapsed": false
   },
   "outputs": [
    {
     "name": "stdout",
     "output_type": "stream",
     "text": [
      "kb|g.3157\n",
      "feature_types CDS\n",
      "feat_count_data\n",
      "[1 0]\n",
      "CDS\n",
      "16694\n",
      "16694\n"
     ]
    },
    {
     "ename": "ValueError",
     "evalue": "all the input array dimensions except for the concatenation axis must match exactly",
     "output_type": "error",
     "traceback": [
      "\u001b[0;31m---------------------------------------------------------------------------\u001b[0m",
      "\u001b[0;31mValueError\u001b[0m                                Traceback (most recent call last)",
      "\u001b[0;32m<ipython-input-26-9d64530f772d>\u001b[0m in \u001b[0;36m<module>\u001b[0;34m()\u001b[0m\n\u001b[1;32m     28\u001b[0m     \u001b[0;31m#feature_add =np.array([feature_add, feature_add])\u001b[0m\u001b[0;34m\u001b[0m\u001b[0;34m\u001b[0m\u001b[0m\n\u001b[1;32m     29\u001b[0m     \u001b[0;32mprint\u001b[0m \u001b[0mfeature_add\u001b[0m\u001b[0;34m\u001b[0m\u001b[0m\n\u001b[0;32m---> 30\u001b[0;31m     \u001b[0mfeat_count_data\u001b[0m \u001b[0;34m=\u001b[0m \u001b[0mnp\u001b[0m\u001b[0;34m.\u001b[0m\u001b[0mrow_stack\u001b[0m\u001b[0;34m(\u001b[0m\u001b[0;34m(\u001b[0m\u001b[0mfeat_count_data\u001b[0m\u001b[0;34m,\u001b[0m \u001b[0mfeature_add\u001b[0m\u001b[0;34m)\u001b[0m\u001b[0;34m)\u001b[0m\u001b[0;34m\u001b[0m\u001b[0m\n\u001b[0m\u001b[1;32m     31\u001b[0m \u001b[0mfeat_count_data\u001b[0m\u001b[0;34m\u001b[0m\u001b[0m\n",
      "\u001b[0;32m/Users/marcin/Documents/KBase/modules/data_api/venv/lib/python2.7/site-packages/numpy/core/shape_base.pyc\u001b[0m in \u001b[0;36mvstack\u001b[0;34m(tup)\u001b[0m\n\u001b[1;32m    228\u001b[0m \u001b[0;34m\u001b[0m\u001b[0m\n\u001b[1;32m    229\u001b[0m     \"\"\"\n\u001b[0;32m--> 230\u001b[0;31m     \u001b[0;32mreturn\u001b[0m \u001b[0m_nx\u001b[0m\u001b[0;34m.\u001b[0m\u001b[0mconcatenate\u001b[0m\u001b[0;34m(\u001b[0m\u001b[0;34m[\u001b[0m\u001b[0matleast_2d\u001b[0m\u001b[0;34m(\u001b[0m\u001b[0m_m\u001b[0m\u001b[0;34m)\u001b[0m \u001b[0;32mfor\u001b[0m \u001b[0m_m\u001b[0m \u001b[0;32min\u001b[0m \u001b[0mtup\u001b[0m\u001b[0;34m]\u001b[0m\u001b[0;34m,\u001b[0m \u001b[0;36m0\u001b[0m\u001b[0;34m)\u001b[0m\u001b[0;34m\u001b[0m\u001b[0m\n\u001b[0m\u001b[1;32m    231\u001b[0m \u001b[0;34m\u001b[0m\u001b[0m\n\u001b[1;32m    232\u001b[0m \u001b[0;32mdef\u001b[0m \u001b[0mhstack\u001b[0m\u001b[0;34m(\u001b[0m\u001b[0mtup\u001b[0m\u001b[0;34m)\u001b[0m\u001b[0;34m:\u001b[0m\u001b[0;34m\u001b[0m\u001b[0m\n",
      "\u001b[0;31mValueError\u001b[0m: all the input array dimensions except for the concatenation axis must match exactly"
     ]
    }
   ],
   "source": [
    "genome=\"kb|g.3157\"\n",
    "\n",
    "services = {\n",
    "        \"workspace_service_url\": \"https://ci.kbase.us/services/ws/\",\n",
    "        \"shock_service_url\": \"https://ci.kbase.us/services/shock-api/\",\n",
    "    }\n",
    "token = None\n",
    "s = \"\"\n",
    "genome_annotation = GenomeAnnotationAPI(services, token, s.join((\"ReferenceGenomeAnnotations/\",genome)))\n",
    "\n",
    "gname=genome_annotation.get_name()\n",
    "print gname\n",
    "\n",
    "feature_types = genome_annotation.get_feature_types()\n",
    "\n",
    "print \"feature_types \" + \"\".join(feature_types)\n",
    "feat_count_data = np.random.random_integers(0, 1, 2)\n",
    "print \"feat_count_data\"\n",
    "print feat_count_data\n",
    "\n",
    "for i in range(0, len(feature_types)) :\n",
    "    print feature_types[i]\n",
    "    feature_ids = genome_annotation.get_feature_ids(filters={\"type_list\": [feature_types[i]]})\n",
    "    print(len(feature_ids[\"by_type\"][feature_types[i]]))\n",
    "    #print(feat_data)\n",
    "\n",
    "    feature_add= len(feature_ids[\"by_type\"][feature_types[i]])\n",
    "    #feature_add =np.array([feature_add, feature_add])\n",
    "    print feature_add\n",
    "    feat_count_data = np.row_stack((feat_count_data, feature_add))\n",
    "feat_count_data\n"
   ]
  },
  {
   "cell_type": "code",
   "execution_count": null,
   "metadata": {
    "collapsed": true
   },
   "outputs": [],
   "source": []
  },
  {
   "cell_type": "code",
   "execution_count": null,
   "metadata": {
    "collapsed": true
   },
   "outputs": [],
   "source": []
  }
 ],
 "metadata": {
  "kernelspec": {
   "display_name": "Python 2",
   "language": "python",
   "name": "python2"
  },
  "language_info": {
   "codemirror_mode": {
    "name": "ipython",
    "version": 2
   },
   "file_extension": ".py",
   "mimetype": "text/x-python",
   "name": "python",
   "nbconvert_exporter": "python",
   "pygments_lexer": "ipython2",
   "version": "2.7.10"
  }
 },
 "nbformat": 4,
 "nbformat_minor": 0
}
